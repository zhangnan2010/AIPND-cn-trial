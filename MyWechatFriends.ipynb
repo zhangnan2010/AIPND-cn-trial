{
 "cells": [
  {
   "cell_type": "markdown",
   "metadata": {},
   "source": [
    "## 人工智能编程基础（试学班）\n",
    "\n",
    "## 项目：我的微信好友\n",
    "\n",
    "在这个notebook文件中，有些模板代码已经提供给你，但你还需要实现更多的功能来完成这个项目。除非有明确要求，你无须修改任何已给出的代码。以**'(练习)'**开始的标题表示接下来的代码部分中有你需要实现的功能。这些部分都配有详细的指导，需要实现的部分也会在注释中以'TODO'标出。请仔细阅读所有的提示。\n",
    "\n",
    "除了实现代码外，你还**需要**回答一些与项目及代码相关的问题。每个需要回答的问题都会以 **'问题 X'** 标记。请仔细阅读每个问题，并且在问题后的 **'回答'** 部分写出完整的答案。我们将根据 你对问题的回答 和 撰写代码实现的功能 来对你提交的项目进行评分。\n",
    "\n",
    ">**提示：**Code 和 Markdown 区域可通过 **Shift + Enter** 快捷键运行。此外，Markdown可以通过双击进入编辑模式。\n",
    "\n",
    "---\n",
    "\n",
    "### 让我们开始吧\n",
    "\n",
    "在这个项目中，你将通过开源的微信个人号接口 [itchat](http://itchat.readthedocs.io/zh/latest/) 来实现 Python 调用微信好友数据，并做一些有趣的统计和分析，最终分享给你的好友 :P\n",
    "\n",
    "### 项目内容\n",
    "\n",
    "我们将这个notebook分为不同的步骤，你将完成以下5个任务：\n",
    "\n",
    "**任务0 - 登陆微信，并通过向文件传输助手发送打招呼信息**\n",
    "\n",
    "**任务1 - 统计你的微信好友的男女比例**\n",
    "\n",
    "**任务2 - 分析微信好友的地域分布**\n",
    "\n",
    "**任务3 - 生成微信好友的签名词云图**\n",
    "\n",
    "**任务4 - 对签名进行情感分析**"
   ]
  },
  {
   "cell_type": "markdown",
   "metadata": {},
   "source": [
    "---\n",
    "\n",
    "## 任务0. 登陆并发送打招呼信息\n",
    "\n",
    "### 登陆\n",
    "在这一个章节中，我们已经为你导入`itchat`这个包，并调用`login()`函数登陆网页微信，试试看运行以下代码，并扫描二维码以登陆网页微信。"
   ]
  },
  {
   "cell_type": "code",
   "execution_count": 2,
   "metadata": {},
   "outputs": [
    {
     "name": "stdout",
     "output_type": "stream",
     "text": [
      "所有库导入成功！\n"
     ]
    }
   ],
   "source": [
    "### 以下内容无需改动，直接运行即可\n",
    "# 导入项目中所需要的包\n",
    "import pandas as pd\n",
    "import re\n",
    "import os \n",
    "import numpy as np\n",
    "import pinyin\n",
    "import matplotlib.pyplot as plt\n",
    "import itchat\n",
    "%matplotlib inline\n",
    "\n",
    "print(\"所有库导入成功！\")"
   ]
  },
  {
   "cell_type": "code",
   "execution_count": 3,
   "metadata": {},
   "outputs": [
    {
     "name": "stderr",
     "output_type": "stream",
     "text": [
      "Getting uuid of QR code.\n",
      "Downloading QR code.\n",
      "Please scan the QR code to log in.\n",
      "Please press confirm on your phone.\n",
      "Loading the contact, this may take a little while.\n",
      "Login successfully as 张楠\n"
     ]
    }
   ],
   "source": [
    "# 调用login()函数以登录网页微信\n",
    "itchat.login()"
   ]
  },
  {
   "cell_type": "markdown",
   "metadata": {},
   "source": [
    "---\n",
    "**注意：如果您的账号为2018年新注册的账号，或者您倾向于使用假数据来完成此项目，可以将下方代码块中的变量`use_fake_dataset`设置为`True`。并且，您无需完成任务0中的练习和问题，可以直接从任务1开始。**"
   ]
  },
  {
   "cell_type": "code",
   "execution_count": 4,
   "metadata": {},
   "outputs": [],
   "source": [
    "### 以下内容无需改动，直接运行即可\n",
    "# 读取数据\n",
    "use_fake_dataset = False\n",
    "if not use_fake_dataset:\n",
    "    dataset = itchat.get_friends(update=True)[0:]\n",
    "else:\n",
    "    dataset = pd.read_csv('wechat_friends.csv').fillna('').to_dict('records')\n"
   ]
  },
  {
   "cell_type": "markdown",
   "metadata": {},
   "source": [
    "---"
   ]
  },
  {
   "cell_type": "markdown",
   "metadata": {},
   "source": [
    "### 练习：打个招呼吧\n",
    "\n",
    "在这个章节中，我们将调用`itchat`的`send()`函数向文件传输助手`filehelper`发送一个打招呼信息吧！\n",
    "\n",
    "你需要完成以下内容：\n",
    " - 将想要发送的信息内容赋值给`message`"
   ]
  },
  {
   "cell_type": "code",
   "execution_count": 29,
   "metadata": {},
   "outputs": [],
   "source": [
    "### TODO：将信息内容赋值给message\n",
    "message = 'Hello， I am wechat bot'"
   ]
  },
  {
   "cell_type": "code",
   "execution_count": 30,
   "metadata": {},
   "outputs": [
    {
     "data": {
      "text/plain": [
       "<ItchatReturnValue: {'BaseResponse': {'Ret': 1102, 'ErrMsg': '', 'RawMsg': ''}, 'MsgID': '', 'LocalID': ''}>"
      ]
     },
     "execution_count": 30,
     "metadata": {},
     "output_type": "execute_result"
    }
   ],
   "source": [
    "### 以下内容无需改动，直接运行即可\n",
    "# 发送消息\n",
    "itchat.send(message, 'filehelper')"
   ]
  },
  {
   "cell_type": "markdown",
   "metadata": {},
   "source": [
    "打开手机微信端的文件传输助手，看看是否收到了这条信息，并回答以下问题。\n",
    "\n",
    "### **问题1**\n",
    "message 的变量类型是什么？"
   ]
  },
  {
   "cell_type": "markdown",
   "metadata": {},
   "source": [
    "**回答**： str"
   ]
  },
  {
   "cell_type": "code",
   "execution_count": 28,
   "metadata": {},
   "outputs": [
    {
     "name": "stderr",
     "output_type": "stream",
     "text": [
      "LOG OUT!\n"
     ]
    },
    {
     "data": {
      "text/plain": [
       "<ItchatReturnValue: {'BaseResponse': {'ErrMsg': '请求成功', 'Ret': 0, 'RawMsg': 'logout successfully.'}}>"
      ]
     },
     "execution_count": 28,
     "metadata": {},
     "output_type": "execute_result"
    }
   ],
   "source": [
    "### 退出登陆\n",
    "itchat.logout()"
   ]
  },
  {
   "cell_type": "markdown",
   "metadata": {},
   "source": [
    "---\n",
    "\n",
    "## 任务1. 好友男女比例"
   ]
  },
  {
   "cell_type": "markdown",
   "metadata": {},
   "source": [
    "根据我们希望探索的问题，需要从数据集中取出以下几个部分：\n",
    "- NickName：微信昵称\n",
    "- Sex：性别，1表示男性，2表示女性\n",
    "- Province：省份\n",
    "- City：城市\n",
    "- Signature：微信签名"
   ]
  },
  {
   "cell_type": "code",
   "execution_count": 32,
   "metadata": {},
   "outputs": [],
   "source": [
    "### 以下内容无需改动，直接运行即可\n",
    "def preprocess_data(dataset):\n",
    "    \n",
    "    data = [{'NickName': item['NickName'], \n",
    "            'Sex': item['Sex'], \n",
    "            'Province': item['Province'], \n",
    "            'City': item['City'], \n",
    "            'Signature': item['Signature']} \n",
    "            for item in dataset]\n",
    "    \n",
    "    return data\n",
    "\n",
    "pre_data = preprocess_data(dataset)"
   ]
  },
  {
   "cell_type": "markdown",
   "metadata": {},
   "source": [
    "### 练习：打印数据\n",
    "* 打印`pre_data`的数据类型\n",
    "* 打印`pre_data`中的第0条数据，以及其数据类型。\n",
    "* 打印`pre_data`中第0条数据的微信昵称"
   ]
  },
  {
   "cell_type": "markdown",
   "metadata": {},
   "source": [
    "---\n",
    "### 提示：\n",
    "* `print()`函数可以打印括号内的内容。\n",
    "\n",
    "* `type()`函数可以提取括号内变量的数据类型。\n",
    "\n",
    "#### 对于列表的索引\n",
    "\n",
    "> 如果有一个列表`lst`,我想提取它的第三条数据（注意第三条数据和索引2是对应的）：\n",
    "```python\n",
    "lst = [1,2,3,4,5]\n",
    "print(lst[2])\n",
    "```\n",
    "输出\n",
    "```python\n",
    "3\n",
    "```\n",
    "\n",
    "#### 对于字典的索引\n",
    "\n",
    "> 如果有一个字典`color`,我想根据它的某一个键（key）提取对应值（value）：\n",
    "```python\n",
    "color = {'apple':'red','pear':'green','banana':'yellow'}\n",
    "#这是一个水果对应颜色的字典\n",
    "#我想获取‘pear’的颜色\n",
    "print(color['pear'])\n",
    "```\n",
    "输出\n",
    "```python\n",
    "green\n",
    "```\n",
    "\n",
    "---"
   ]
  },
  {
   "cell_type": "code",
   "execution_count": 33,
   "metadata": {},
   "outputs": [
    {
     "name": "stdout",
     "output_type": "stream",
     "text": [
      "<class 'list'>\n"
     ]
    }
   ],
   "source": [
    "print(type(pre_data))### TODO：打印pre_data的数据类型\n"
   ]
  },
  {
   "cell_type": "code",
   "execution_count": 34,
   "metadata": {},
   "outputs": [
    {
     "name": "stdout",
     "output_type": "stream",
     "text": [
      "<class 'dict'>\n",
      "{'NickName': '张楠', 'Sex': 1, 'Province': '', 'City': '', 'Signature': '温良恭俭让'}\n"
     ]
    }
   ],
   "source": [
    "print(type(pre_data[0]))\n",
    "print(pre_data[0])### TODO：打印第0条数据及数据类型\n"
   ]
  },
  {
   "cell_type": "code",
   "execution_count": 35,
   "metadata": {},
   "outputs": [
    {
     "name": "stdout",
     "output_type": "stream",
     "text": [
      "张楠\n"
     ]
    }
   ],
   "source": [
    "print(pre_data[0]['NickName'])### TODO：打印第0条数据的微信昵称\n"
   ]
  },
  {
   "cell_type": "markdown",
   "metadata": {},
   "source": [
    "### **问题2**\n",
    "pre_data的数据类型是什么？pre_data中第0条数据的数据类型呢？根据你的理解，这两种数据类型的区别是什么？"
   ]
  },
  {
   "cell_type": "markdown",
   "metadata": {},
   "source": [
    "回答：pre_data是list类型，pre_data[0]是Dict类型\n",
    "列表(List)是一种可变有序元素数据类型。列表用\"[ ]\"标识。列表中的元素可以增加和减少。\n",
    "元组(Tuple)是一种不可变有序元素数据类型。元组和列表相似，它们都存储一个有序的对象集合，并且可以通过索引访问这些对象。但是与列表不同的是，元组不可变，你无法向元组中添加项目或从中删除项目，或者直接对元组排序。元组可以看成是一个只读列表。\n",
    "字典(Dictionary)是除列表以外Python之中最灵活的内置数据结构类型。列表是有序可变的对象结合，字典是无序可变的对象集合。\n",
    "两者之间的区别在于：字典当中的元素是通过键来存取的，而不是通过偏移存取。字典用\"{ }\"标识。字典由索引(key)和它对应的值value组成。\n",
    "\n",
    "https://www.cnblogs.com/snaildev/p/7544558.html"
   ]
  },
  {
   "cell_type": "markdown",
   "metadata": {},
   "source": [
    "### 练习：统计男女比例\n",
    "- 统计好友性别，分为男性、女性与未知三种，赋值到已经定义好的`sex`字典中。"
   ]
  },
  {
   "cell_type": "markdown",
   "metadata": {},
   "source": [
    "---\n",
    "### 提示：\n",
    "- `dataset`中1表示男性、2表示女性，如果不是1也不是2，那就是unknown啦；\n",
    "- 虽然我们这里没有要求，但是实际的名单中，索引为`0`的实际是自己；\n",
    "- 本道题目需要使用`for`循环\n",
    "\n",
    "#### `for`循环示例\n",
    "> 我们首先定义一个城市名称的`list`，然后通过`for`循环来输出每一个城市的名称\n",
    "```python\n",
    "cities = ['new york city', 'mountain view', 'chicago', 'los angeles']\n",
    "for city in cities:\n",
    "    print(city)\n",
    "```\n",
    "输出\n",
    "```python\n",
    "new york city\n",
    "mountain view\n",
    "chicago\n",
    "los angeles\n",
    "```\n",
    "\n",
    "#### `if..elif..else`条件语句示例\n",
    "\n",
    "> 下面是循环语句中嵌套条件语句的示例。在此示例中，我们需要判断`num_list`中的数字与3和7的大小关系。\n",
    "```python\n",
    "num_list = [1,5,10]\n",
    "for num in num_list:\n",
    "    if num < 3:\n",
    "        print(num,'这个数字小于3')\n",
    "    elif 7>=num>=3:\n",
    "        print(num,'这个数字大于等于3，小于等于7')\n",
    "    else:\n",
    "        print(num,'这个数字大于7')\n",
    "```\n",
    "输出\n",
    "```python\n",
    "1 这个数字小于3\n",
    "5 这个数字大于等于3，小于等于7\n",
    "10 这个数字大于7\n",
    "```\n",
    "\n",
    "---"
   ]
  },
  {
   "cell_type": "code",
   "execution_count": 39,
   "metadata": {},
   "outputs": [],
   "source": [
    "# TODO：统计好友性别\n",
    "sex = {\n",
    "    'male': 0,\n",
    "    'female': 0,\n",
    "    'unknown': 0\n",
    "}\n",
    "for friend in pre_data:\n",
    "    if friend['Sex'] == 1:\n",
    "        sex['male'] = sex['male'] + 1\n",
    "    elif friend['Sex'] == 2:\n",
    "        sex['female'] = sex['female'] + 1\n",
    "    else:\n",
    "        sex['unknown'] = sex['unknown'] + 1"
   ]
  },
  {
   "cell_type": "code",
   "execution_count": 40,
   "metadata": {},
   "outputs": [
    {
     "name": "stdout",
     "output_type": "stream",
     "text": [
      "我的好友中共有 575 位男性、 204 位女性，有 48 位好友未填写。\n"
     ]
    }
   ],
   "source": [
    "### 以下内容无需改动，直接运行即可\n",
    "print(\"我的好友中共有\", sex['male'],\"位男性、\", sex['female'], \"位女性，有\", sex['unknown'], \"位好友未填写。\")"
   ]
  },
  {
   "cell_type": "code",
   "execution_count": 41,
   "metadata": {},
   "outputs": [
    {
     "data": {
      "image/png": "[encoded data removed]",
      "text/plain": [
       "<Figure size 640x400 with 1 Axes>"
      ]
     },
     "metadata": {},
     "output_type": "display_data"
    }
   ],
   "source": [
    "### 以下内容无需改动，直接运行即可\n",
    "plt.figure(figsize=(8,5), dpi=80)\n",
    "plt.axes(aspect=1) \n",
    "plt.pie([sex['male'], sex['female'], sex['unknown']],\n",
    "        labels=['Male','Female','Unknown'],\n",
    "        labeldistance = 1.1,\n",
    "        autopct = '%3.1f%%',\n",
    "        shadow = False,\n",
    "        startangle = 90,\n",
    "        pctdistance = 0.6 \n",
    ")\n",
    "\n",
    "plt.legend(loc='upper left',)\n",
    "plt.title(\"My Wechat Friends' Sex Ratio\")\n",
    "plt.show()"
   ]
  },
  {
   "cell_type": "markdown",
   "metadata": {},
   "source": [
    "这段代码的作用是绘制饼图，是不是很有趣？\n",
    "\n",
    "**饼状图**是一种常见的单变量图形，用于描绘分类变量级别的相对频率。饼图中的频率用圆形的扇区表示：角度或面积越大，该分类值就越常见。\n",
    "\n",
    "在「人工智能编程基础」这门课的第二章节中，将讲解如何使用`matplotlib`和`seaborn`绘制各种统计图表，进行数据可视化。\n",
    "\n",
    "---"
   ]
  },
  {
   "cell_type": "markdown",
   "metadata": {},
   "source": [
    "## 任务2. 好友地域分布\n",
    "### 练习：统计好友省份\n",
    "使用`list`中`append()`方法将好友省份添加至`province`中，注意**要去除空的字符串**"
   ]
  },
  {
   "cell_type": "markdown",
   "metadata": {},
   "source": [
    "---\n",
    "### 提示：\n",
    "* 可以用`for`循环实现，具体的`for`循环我们已经在上一节实现过了哦，相信聪明的你可以再一次做到的！\n",
    "* 这里要去除的空字符串，指的是好友省份信息中为空的那些，**空字符串是`''`**\n",
    "\n",
    "#### `append()`方法应用示例：\n",
    ">```python\n",
    "lst = ['a','b','c']\n",
    "lst.append('d')\n",
    "print(lst)\n",
    "```\n",
    "输出\n",
    "```python \n",
    "['a','b','c','d']\n",
    "```\n",
    "\n",
    "---"
   ]
  },
  {
   "cell_type": "code",
   "execution_count": 45,
   "metadata": {
    "scrolled": true
   },
   "outputs": [],
   "source": [
    "### TODO：将好友所在省份（不为空）添加到 province 中\n",
    "province = []\n",
    "for friend in pre_data:\n",
    "    if friend['Province'] != '':\n",
    "        province.append(friend['Province'])"
   ]
  },
  {
   "cell_type": "code",
   "execution_count": 46,
   "metadata": {},
   "outputs": [],
   "source": [
    "### 以下内容无需修改，直接运行即可\n",
    "province = [pinyin.get(i, format=\"strip\", delimiter=\"\") for i in province if i != '']"
   ]
  },
  {
   "cell_type": "code",
   "execution_count": 47,
   "metadata": {},
   "outputs": [
    {
     "data": {
      "text/plain": [
       "<matplotlib.axes._subplots.AxesSubplot at 0x7fdfea3acda0>"
      ]
     },
     "execution_count": 47,
     "metadata": {},
     "output_type": "execute_result"
    },
    {
     "data": {
      "image/png": "[encoded data removed]",
      "text/plain": [
       "<Figure size 432x288 with 1 Axes>"
      ]
     },
     "metadata": {
      "needs_background": "light"
     },
     "output_type": "display_data"
    }
   ],
   "source": [
    "### 以下内容无需修改，直接运行即可\n",
    "province = pd.DataFrame(province)\n",
    "province.columns = ['Province']\n",
    "province['Number of Friends'] = 1\n",
    "province.groupby('Province').sum().sort_values('Number of Friends', ascending=False)[:10].plot.bar()"
   ]
  },
  {
   "cell_type": "markdown",
   "metadata": {},
   "source": [
    "**条形图**用于描述分类变量的分布情况。在条形图中，分类变量的每个级别用长条表示，高度表示数据在该级别的出现频率。"
   ]
  },
  {
   "cell_type": "markdown",
   "metadata": {},
   "source": [
    "---\n",
    "\n",
    "## 任务3. 生成好友个性签名词云图\n",
    "\n",
    "在这里我们希望生成词云，只需要调用第三方库即可，Python有大量的库可以使用，能极大提高开发效率，是编程入门的绝佳选择。\n",
    "\n",
    "### 练习：打印个性签名\n",
    "* 使用`print()`语句打印出第2条签名"
   ]
  },
  {
   "cell_type": "markdown",
   "metadata": {},
   "source": [
    "---\n",
    "### 提示：\n",
    "* 列表的索引我们在前面已经实现过了哦，不记得了可以再去看看\n",
    "* **注意**：索引的2和实际的第2条是有区别的，Python的索引是从0开始的。\n",
    "\n",
    "---"
   ]
  },
  {
   "cell_type": "code",
   "execution_count": 53,
   "metadata": {},
   "outputs": [
    {
     "name": "stdout",
     "output_type": "stream",
     "text": [
      "{'NickName': '朱婧', 'Sex': 2, 'Province': '北京', 'City': '海淀', 'Signature': '知人者智，自知者明'}\n",
      "知人者智，自知者明\n",
      "温良恭俭让\n",
      "知人者智，自知者明\n",
      "凡客\n",
      "06年时代周刊年度风云人物，08年感动中国组委会特别大奖得主。\n",
      "my dear deer\n",
      "Try again.\n",
      "辰辰是个吃货胖小子。\n",
      "<span class=\"emoji emoji1f61c\"></span><span class=\"emoji emoji1f61c\"></span>\n",
      "不要失望\n",
      "郑小川\n",
      "哟，不错哦\n",
      "向往2011\n",
      "好吧好吧，三七二十五，你是对的。\n",
      "激荡智慧，捕捉灵感\n",
      "钱难赚，屎难吃\n",
      "我们公司是个好公司，我们虽然下班晚，但是我们上班早啊。\n",
      "Step by step and the thing is done.\n",
      "Carpe Diem <span class=\"emoji emoji1f48e\"></span>\n",
      "God loves his children\n",
      "放下昨日的包袱，才能走的更快，更远。\n",
      "优酷、迅雷、搜狐、芒果、乐视会员，要的私密\n",
      "不要因为走得太久，而忘了为什么出发。\n",
      "jacky\n",
      "喝茶也喝酒\n",
      "大爱无声\n",
      "坚持，坚持，再坚持\n",
      "高川\n",
      "放慢追求幸福的脚步，幸福才可能会赶上你…\n",
      "栽树哲学\n",
      "等风来\n",
      "如果额头终将刻上皱纹，你只能做到，不让皱纹刻在你心上\n",
      "lyndon\n",
      "多点思考，把时间花在美好的事情上......\n",
      "修齐治平\n",
      "拉格朗日\n",
      "滔滔\n",
      "elect\n",
      "有时候，你原谅别人，只是因为你还想把 他们留在你的生活里。\n",
      "不要老低头走路，抬头看看远方，就能避免走弯路。\n",
      "为我梦想的一颗“龙珠”，加油<span class=\"emoji emoji1f4aa\"></span>🏻\n",
      "风一样自由……\n",
      "我喜欢的样子你都有\n",
      "本人没有更改手机号码，请勿相信第三方信息\n",
      "Xu\n",
      "一杯茶，一本书\n",
      "用力思考！！！\n",
      "mata\n",
      "Summer\n",
      "战术上的勤奋不能掩盖战略上的懒惰\n",
      "life is short,play more.\n",
      "身未动，心已远！\n",
      "个性签名\n",
      "人要拿得起，也要放得下。拿得起是生存，放得下是生活。\n",
      "新年新气象！\n",
      "由心開始改變。\n",
      "我，遇到神了…\n",
      "努力着…\n",
      "美丽的日照，我来鸟！\n",
      "The best is yet to come.\n",
      "航\n",
      "鸡西，再见\n",
      "励志缓慢\n",
      "hi 朋友 晚上好\n",
      "如鹰展翅上腾\n",
      "Sometimes it lasts in love but sometimes  it hurts instead.\n",
      "ﻩ\n",
      "努力！！！\n",
      "手机号码变更为18018587543\n",
      "ing…ing…ing~\n",
      "愿你外出半生，归来仍是少年。\n",
      "专注于IC行业的猎头，欢迎咨询！\n",
      "charley.chang@hibohr.com\n",
      "三十而立\n",
      "突破\n",
      "为什么通往成功的路总在施工中\n",
      "如风过境\n",
      "深爱着这个世界\n",
      "浓情生痴，浓利出贪，浓名会嗔。\n",
      "专注淡定，不奢求完美\n",
      "mm_ws\n",
      "Run away\n",
      "一切都是最好的安排\n",
      "大器兔成！\n",
      "本人无空间！没有屏蔽任何人。。\n",
      "-- 这不科学啊！\n",
      "最爱小媳妇儿！\n",
      "自律是一种自由\n",
      "hello world\n",
      "勇敢向前走\n",
      "雄关漫道真如铁,而今迈步从头越\n",
      "17812036276若无心事挂心头，便是人间好季节\n",
      "就让我安安静静的做个美男子！\n",
      "The things you own end up owning you\n",
      "随缘~\n",
      "看看.....\n",
      "谁会不厌其烦安慰那无知的少年.\n",
      "戛然而止～\n",
      "精彩才刚刚开始\n",
      "正在前往多拉多\n",
      "用心生活\n",
      "天空之城\n",
      "咳咳\n",
      "心之所向，素履以往\n",
      "生如逆旅，一苇以航\n",
      "“我们都是无路狂奔的人，看不清楚前方，也不停下脚步”\n",
      "云飞雪舞轻飘絮，叶落风扬辰逸翔……自沁\n",
      "少年拼体力，青年拼智力，中年拼人品，老年拼健康\n",
      "顺其自然\n",
      "物来顺应，未来不迎，当时不杂，既过不恋\n",
      "生活再苦也不要失去信念，因为美好就在明天\n",
      "事在人为\n",
      "再见！青春。\n",
      "告别火锅，肥肉，酒\n",
      "这个家伙很懒，啥也没写\n",
      "Keep thinking, Don't comment\n",
      "Everything that happened in life must have its meaning\n",
      "2019，宝贝健康快乐<span class=\"emoji emoji1f60a\"></span>\n",
      "执子之手，与子偕老。\n",
      "小米\n",
      "To know how to do something well is to enjoy it.\n",
      "时间看得见\n",
      "希望继续成为一个很厉害的人。\n",
      "看着暖，摸着软\n",
      "新号码17826026090麻烦大家惠存\n",
      "愿你人心似铁，得过且过\n",
      "Positive energy\n",
      "必须努力工作，否则，除了美貌我一无所有\n",
      "~忠于自己~\n",
      "我若不勇敢，谁替我坚强\n",
      "愚蠢的地球人\n",
      "皆是过客浮云，何必争一时之长短\n",
      "风.花.雪.月\n",
      "擦\n",
      "喵呜<span class=\"emoji emoji1f431\"></span>\n",
      "ISO审核 管理培训解决方案请联系Tim¹⁸⁹¹⁴⁰²³⁹⁹⁷\n",
      "嘿\n",
      "坚持自律\n",
      "不破不立\n",
      "努力奔跑\n",
      "我需要世界，但我需要世界不要太具体。\n",
      "平安喜乐 身体健康\n",
      "和这个世界交手的这许多年，你是否光彩依旧，        兴致盎然\n",
      "借假修真，不断成长。\n",
      "都市之美，莫过夜色\n",
      "月到天心处  风到水面时\n",
      "time flies\n",
      "你是猴子请来的救兵吗？\n",
      "蓝书包，黑耳暖，还有小馒头\n",
      "就\n",
      "是\n",
      "这\n",
      "么\n",
      "神\n",
      "奇\n",
      "海棠依旧，初心不改\n",
      "一个人，活着有没有意思最重要，尤其是精神上。\n",
      "hoho\n",
      "可分期🔅凡事有交代 件件有着落 事事有回音\n",
      "活着就要有信仰！\n",
      "Misanthropy\n",
      "己所不欲 勿施于人\n",
      "当你快乐时你能看到一株小草的快乐，轻盈时能看到一朵云彩的轻盈\n",
      "用心经营 悉心呵护\n",
      "生活就是这样子滴--love each other一生一世\n",
      "朗兰兹纲领放光芒\n",
      "做一个勤奋的悟败者\n",
      "低调是最牛掰的炫耀\n",
      "天行健，君子以自强不息…励志做个乐观自信的人\n",
      "For The Lich King! The Night beckons!\n",
      "加好友前，先通报姓名。\n",
      "不好意思，能打倒我的，只有我自己。\n",
      "18310334230\n",
      "追求平和\n",
      "记住每一个对你好的人，因为本可以不这么做。\n",
      "除贪爱，刹那跳出娑婆外\n",
      "下雨天留客天留我不留\n",
      "羞掩琵琶半遮面\n",
      "九天凤舞 沧海龙吟\n",
      "也会给你怀抱\n",
      "扫地喝茶 读书做事\n",
      "珍惜当下\n",
      "你必须非常努力，才能看起来毫不费力\n",
      "nothing\n",
      "孤独使人强大\n",
      "finestyle\n",
      "幸福很简单 又来之不易\n",
      "在暴风雨中也要加油奔跑呢～<span class=\"emoji emoji1f31f\"></span>\n",
      "一辈子很短，认真的过每一天。\n",
      "敬畏、感恩、知足、惜福、好好说话\n",
      "意气风发，飞扬青春。\n",
      "秋叶随风\n",
      "执子之手，与子偕老@朱小宝<span class=\"emoji emoji1f63d\"></span>\n",
      "java*测试*前端\n",
      "whatever will happen tomorrow,just make full use of today\n",
      "夏虫不可语冰\n",
      "Fighting\n",
      "内心柔软而有原则，身披铠甲而有温度。\n",
      "路就在脚下，你无力改变终点，但却能决定脚踏出的方向\n",
      "先天下之忧而忧，后天下之乐而乐……\n",
      "不迎未来，不念过往！\n",
      "深愿永居你院宇，在你殿里求问\n",
      "批评不自由，赞美无意义；批评无自由，赞美你随意。\n",
      "你喜欢吃青椒么？\n",
      "种一棵树最好的时间是十年前，其次是现在。\n",
      "成熟稳重，有趣的灵魂，非行尸走肉\n",
      "活着就会有美好\n",
      "农人告余以春及，将有事于西畴。\n",
      "盡力而為\n",
      "隆邵湘\n",
      "勇气，坦诚，智慧\n",
      "<span class=\"emoji emoji1f436\"></span> <span class=\"emoji emoji1f411\"></span> <span class=\"emoji emoji1f436\"></span>\n",
      "予人玫瑰\n",
      "Apollo\n",
      "keep moving, keep lost!\n",
      "Vis la vie en couleur\n",
      "愿时光清浅，彼此温柔以待！\n",
      "Bang!\n",
      "搁浅在北京\n",
      "作众生马牛\n",
      "你只管努力，其它的，交给天意\n",
      "额。。加我时麻烦留下验证信息\n",
      "坦诚做人，专注做事\n",
      "在有限的青春里做出无限的事！\n",
      "Always believe that something wonderful is about to happen\n",
      "不要把对手想得太复杂，因为我也不简单!!\n",
      "新\n",
      "我思故我在\n",
      "点检做天子\n",
      "郝波\n",
      "时间，带走了年少轻狂，也慢慢沉淀了冷暖自知。别傻了，多爱自己\n",
      "从地狱走向天堂，我路过人间！\n",
      "看取莲花净，应知不染心。\n",
      "Be a better man!\n",
      "预则立不预则废\n",
      "不忘初心，方得始终。\n",
      "还没\n",
      "人无远虑，必有近忧\n",
      "温良恭俭让\n",
      "因为我知道我们不会有下辈子我今生才会那么努力把最好的给你\n",
      "随意哈拉\n",
      "睡不完的觉，做不完的梦！\n",
      "回家感觉真好！\n",
      "牵着一只蜗牛去散步\n",
      "和熙\n",
      "略知天高地厚\n",
      "重诺守信，急公好义\n",
      "做少数派\n",
      "起风了，下雨了\n",
      "厚德载物\n",
      "Grow up and Explore\n",
      "我的理想是长大成为一名科学家！\n",
      "温帅.\n",
      "常与同好争高下，不与傻瓜论短长\n",
      "战战兢兢，如履薄冰\n",
      "那些打不死我的，都将使我更坚强！\n",
      "知行止得\n",
      "做个更优秀的自己\n",
      "2016 在追逐梦的路上 享受每一寸时光\n",
      "言语心灵支持\n",
      "人生从来如战场，单枪匹马是常态。\n",
      "风来起舞 雨来放歌\n",
      "笑对自己，不被傻逼干扰\n",
      "人生不过是三餐饭一张床\n",
      "岂能事事尽人如意，但求无愧我心\n",
      "Every minute counts.\n",
      "内敛而不寡言，客观而不愤世，温情而不暴戾，正直而不虚饰\n",
      "五斗米，小生不care\n",
      "ABC\n",
      "佛系程序员\n",
      "人生没啥可怕的，毕竟穿越到这个世界也没打算活着回去。\n",
      "dying in the sun\n",
      "临窗望月思前程，举杯饮愁听江涛\n",
      "回归自然\n",
      "找我，关注“7725在哪儿”\n",
      " \n",
      "工作即修行，总结即著书。有打算明年结婚的妹子吗，请联系我\n",
      "lazy man\n",
      "君子不器，为者常成，行者常至\n",
      "你浪费的今天，是昨日逝去的人的明天。\n",
      "听说从太高的地方掉下来，即使是钻石也会破碎\n",
      "很难找到一个像我一样神经错乱的人<span class=\"emoji emoji1f63c\"></span>\n",
      "耐得千事烦，收得一心清\n",
      "TO BE A BETTER MAN\n",
      "Congratulations！\n",
      "最爱听你声线\n",
      "韬光养晦🌒\n",
      "晴天\n",
      "重构人生\n",
      "心累⊙﹏⊙\n",
      "青春不老，我们不散。\n",
      "为者常成，行者常至\n",
      "零零碎碎\n",
      "\n",
      "点点滴滴\n",
      "\n",
      "梦里有花梦里青草地\n",
      "自律\n",
      "笃定一些\n",
      "蘑菇菌 ٩(๑ᵒ̴̶̷͈᷄ᗨᵒ̴̶̷͈᷅)و\n",
      "在路上\n",
      "你在心中，路在脚下。\n",
      "出色源之本色，强者强之内心！\n",
      "I'm still alive.\n",
      "永远在乐观中前行，相信明天会更好！\n",
      "大道至简-把不简单做到简单\n",
      "极简+极致=纯粹\n",
      "严于待人，宽于律己。\n",
      "三观不同，互相尊重！\n",
      "加好友，请备注 应用名称 职务 姓名\n",
      "I was cured all right\n",
      "Silence is as deep as eternity and speech is shadow as time.\n",
      "一个当地不怎么出名的人\n",
      "缘起不灭 一切皆空\n",
      "真诚与热爱\n",
      "Today is a gift，that's why it's called the present.\n",
      ":-)\n",
      "名师大将莫自牢 千军万马避白袍\n",
      "追寻心的选择\n",
      "我会胖的原因是因为许多事情放在心里不好瘦。\n",
      "不负过往，未来可期～\n",
      "苍山如海残阳如血\n",
      "Valar morghulis.Valar dohaeris.\n",
      "只跪不舔\n",
      "把自我交付出去，从此就活在命运之中的必然与自由。\n",
      "没啥可说的\n",
      "some dreams.人生苦短，无梦难活。\n",
      "快将尘埃掸落，别将你眼眸弄脏\n",
      "静水流深\n",
      "以我之玉碎唤众人觉醒\n",
      "新年快乐，万事如意！\n",
      "I am \n",
      "5.5.5.\n",
      "人品不高智商低，慎用安卓智能机\n",
      "没有音乐生活将是个错误\n",
      "123\n",
      "传递通讯行业正能量\n",
      "Arya\n",
      "抬头望星空一片静\n",
      "OuMie.com\n",
      "人傻事多，慢慢来会比较快。\n",
      "宁静致远\n",
      "做事，先想方法，再行动\n",
      "人生匆匆，蓦然回首，突然发现失去太多珍贵的东西……\n",
      "珍惜\n",
      "浮华一生，淡忘一季；\n",
      "人生一世，顺其自然，得之我幸，失之我命\n",
      "鲸头鹳，来自非洲\n",
      "人生不过数十载，唯愿不负年华\n",
      "我就是我\n",
      "enjoy life～\n",
      "似水流年！\n",
      "断舍离\n",
      "我就像个菠萝蜜，麻麻赖赖不好看，可是甜啊\n",
      "快乐就好！\n",
      "生活就像剥洋葱，一层层剥下去，总有一天你会泪流满面!\n",
      "偷得浮生半日闲\n",
      "境由心生,境随心转\n",
      "。    。\n",
      "让科技惠及大众\n",
      "我在我的世界，悄无声息的走\n",
      "大道至简，人生非凡！小朵朵<span class=\"emoji emoji1f48b\"></span><span class=\"emoji emoji1f436\"></span>平安喜乐<span class=\"emoji emoji1f64f\"></span>佑我女儿芊朵\n",
      "昼短苦夜长，何不秉烛游\n",
      "能力越大，责任越大。我是卓仔\n",
      "-\n",
      "201705061530 人生很宽广，结伴前进，不断成长\n",
      "中国唯一酷男\n",
      "养活一团春意思，撑起两根穷骨头\n",
      "在路上…\n",
      "生而为人，我很抱歉。但～来都来了，我得开心\n",
      "不要因为走得太远而忘记为什么出发\n",
      "又一天过去了，感觉怎么样？是不是离梦想更远了一点？\n",
      "\n",
      "<span class=\"emoji emoji2764\"></span>🍐<span class=\"emoji emoji1f3e0\"></span>⚔️\n",
      "非学无以广才，非志无以成学\n",
      "beautiful is the dream\n",
      "怀念那段曾经为梦想奋斗的日子！\n",
      "心无限，行远方\n",
      "懦怯囚禁人的灵魂，希望可以感受自由。\n",
      "栉风沐雨，砥砺前行。\n",
      "识乾坤大，怜草木青\n",
      "雅鲁藏布江水，你一路欢唱\n",
      "人一直都在走，风一直都在变。\n",
      "伟大的灵魂都是雌雄同体\n",
      "做一个向日葵一样微笑向暖的女子\n",
      "井底小蛙\n",
      "_:\n",
      "世界的样子，用心感受，用心体会\n",
      "度过了这段时期，那些曾经看似十分要命的情绪，也会变得平淡无奇\n",
      "让美港股投资更简单！\n",
      "#从心所欲不逾矩#\n",
      "只要心是晴朗的，人生就没有雨天。\n",
      "蝴蝶眨几次眼睛，才学会飞行～\n",
      "生活明朗 万物可爱 <span class=\"emoji emoji2600\"></span>\n",
      "Always believe that something wonderful is about to happen.\n",
      "call 18600217170\n",
      "Edwin\n",
      "听几首歌，爱几个人，时光悠走，青春尚在。\n",
      "一房二人三餐四季\n",
      "梦是烈酒\n",
      "Follow your heart！\n",
      "我是靠自己本事长胖的！\n",
      "就是你\n",
      "士不可以不弘毅，任重而道远！\n",
      "路漫漫\n",
      "不要温驯地走入那个良夜。\n",
      "人，诗意的栖居，愿你能与灵魂邂逅……\n",
      "心中有敬畏，路便平坦\n",
      "Do one thing at a time, and do well.\n",
      "北京，又一雪\n",
      "用专业赢得尊重\n",
      "<span class=\"emoji emoji1f306\"></span>•<span class=\"emoji emoji1f307\"></span>•🏙•<span class=\"emoji emoji1f30c\"></span>\n",
      "格局高点，养好胃\n",
      "如今就好，没有来日方长。\n",
      "think more intelligent think deeper, arduiñor androider\n",
      "凡心所向，素履所往，生如逆旅，一苇以航\n",
      "行则将至\n",
      "If Sun does not rise, it must be a cloudy/rainny day.\n",
      "不相信有灵魂存在了，否则她怎么不来看我\n",
      "任平生，一蓑烟雨，念悦悦，庶吾氓心\n",
      "人、生来便是孤独的吧。\n",
      "不入虎穴焉得虎子\n",
      "彼年何年？ 今夕何夕？ \n",
      "流年笑掷， 未来可期。\n",
      "再劝解自己凡事不要等失去了才知道珍惜\n",
      "书珊城\n",
      "Sheer Driving Pleasure\n",
      "山东 谷@雪@翔@峻\n",
      "踏踏实实做事，堂堂正正做人。\n",
      "开放，欣赏，包容，进取\n",
      "the house.\n",
      "南墙已撞，故事我忘了！\n",
      "婚纱&amp;造型高定  婚礼高端定制  美妆教育\n",
      "我不是不想和你说话，只是觉得我能说的其实你早已经知道了\n",
      "兵荒马乱的青春，我不乖也不算野\n",
      "过去的价值不代表未来的地位,梦想的坚持注定有孤独的彷徨\n",
      "Happiness is a journey\n",
      "2019，侓。\n",
      "On the way~\n",
      "以行践言\n",
      "苦乐自当 无有代者\n",
      "跨过丁克直接奔向不婚，这样才对得起我是一名95后女ing!\n",
      "奋斗未来\n",
      "早睡早起，心宽体胖。\n",
      "오늘도 좋은 하루^^\n",
      "懂得珍惜  才配拥有\n",
      "Believe that one is right on something\n",
      "13818614263\n",
      "小慢是福，安静是乐\n",
      "不畏过去，不惧将来。\n",
      "感谢过来看看我 （*＾3＾）新年快乐\n",
      "人生总是要面临龌龊的抉择\n",
      "我有幸一生有你\n",
      "诗歌流年\n",
      "Live Wild\n",
      "佛系佛系佛系……\n",
      "做正确的事情，而不是容易的事情\n",
      "修身-齐家-挣钱-吃天下\n",
      "日拱一卒\n",
      "想到就要去做\n",
      "做，容易；做好，真的不容易；\n",
      "٩(๑^o^๑)۶\n",
      "小米互娱～华北、华东\n",
      "Nothing to lose!\n",
      "初心不忘，过往不追\n",
      "奋斗可以温饱，选择决定命运～\n",
      "none\n",
      "万物无常 善恶交替 向善精进 矢志不渝\n",
      "一个错误的决定，可能会让你用几年甚至一辈子的时间来为之买单\n",
      "永远相信美好的事情即将发生\n",
      "无论你遇见谁，他都是在你生命中该出现的人。\n",
      "布衣之徒，设取予然诺，千里诵义。\n",
      "一花一世界，一树一菩提！\n",
      "用真心追随智慧\n",
      "有事做，有人爱，有所期待！\n",
      "己所不欲，勿施于人。己所欲，施于人。\n",
      "静，淡，退，放，平\n",
      "欲买桂花同载酒，终不似，少年游。\n",
      "世界上只有一种英雄主义就是看清了生活的真相之后依然热爱生活\n",
      "世界那么大，我想去看看！\n",
      "Books and Movies，Mountains and Sea\n",
      "变则通\n",
      "feel. fun\n",
      "the pursuit of happiness\n",
      "假如上帝不能把我变瘦，就把别人都变胖吧\n",
      "出走半生，归来依旧少年\n",
      "你才25岁，你可以成为任何你想成为的人～《步履不停》\n",
      "精进自己，分享他人~\n",
      "For you，a thousand times over.\n",
      "一天四件事，考研，工作，健身，宠物\n",
      "微信不加陌生人喔～\n",
      "越老越坏\n",
      "致少年。。\n",
      "天空飘来五个字-那都不是事儿 <span class=\"emoji emoji270c\"></span>\n",
      "134340\n",
      "云在青天水在瓶\n",
      "。\n",
      "诗酒趁年华\n",
      "Gityuan本人是也\n",
      "今天你买鞋了吗\n",
      "快乐三色，多彩童年！\n",
      "唯我不败\n",
      "请不要叫我测评君\n",
      "各自有城邦与星辰。\n",
      "请～叫我～大双律师～～～\n",
      "置换体内星辰河流\n",
      "2016加油\n",
      "生活就像是每天晚上七点半的新闻联播！不是你换台就能逃避的了！\n"
     ]
    }
   ],
   "source": [
    "### TODO：打印出第2条签名\n",
    "print(pre_data[1])\n",
    "print(pre_data[1]['Signature'])\n",
    "for friend in pre_data:\n",
    "    if friend['Signature'] !='':\n",
    "        print(friend['Signature'])"
   ]
  },
  {
   "cell_type": "code",
   "execution_count": 51,
   "metadata": {},
   "outputs": [
    {
     "name": "stderr",
     "output_type": "stream",
     "text": [
      "Building prefix dict from the default dictionary ...\n",
      "Dumping model to file cache /tmp/jieba.cache\n",
      "Loading model cost 0.592 seconds.\n",
      "Prefix dict has been built succesfully.\n"
     ]
    }
   ],
   "source": [
    "### 以下内容无需修改，直接运行即可\n",
    "from wordcloud import WordCloud\n",
    "import jieba\n",
    "\n",
    "tList = []\n",
    "for i in pre_data:\n",
    "    signature = i[\"Signature\"].replace(\" \", \"\").replace(\"span\", \"\").replace(\"class\", \"\").replace(\"emoji\", \"\")\n",
    "    rep = re.compile(\"1f\\d.+\")\n",
    "    signature = rep.sub(\"\", signature)\n",
    "    if len(signature) > 0:\n",
    "        tList.append(signature)\n",
    "    \n",
    "text = \"\".join(tList)\n",
    "\n",
    "wordlist_jieba = jieba.cut(text, cut_all=True)\n",
    "wl_space_split = \" \".join(wordlist_jieba)"
   ]
  },
  {
   "cell_type": "code",
   "execution_count": 52,
   "metadata": {},
   "outputs": [
    {
     "data": {
      "image/png": "[encoded data removed]",
      "text/plain": [
       "<Figure size 432x288 with 1 Axes>"
      ]
     },
     "metadata": {
      "needs_background": "light"
     },
     "output_type": "display_data"
    },
    {
     "data": {
      "text/plain": [
       "<wordcloud.wordcloud.WordCloud at 0x7fdfea144a90>"
      ]
     },
     "execution_count": 52,
     "metadata": {},
     "output_type": "execute_result"
    }
   ],
   "source": [
    "### 以下内容无需修改，直接运行即可\n",
    "import PIL.Image as Image\n",
    "\n",
    "alice_coloring = np.array(Image.open(\"wechat.jpg\"))\n",
    "\n",
    "my_wordcloud = WordCloud(background_color=\"white\", max_words=2000, mask=alice_coloring,\n",
    "                         max_font_size=40, random_state=42, font_path='./SimHei.ttf').generate(wl_space_split)\n",
    "\n",
    "\n",
    "plt.imshow(my_wordcloud)\n",
    "plt.axis(\"off\")\n",
    "plt.show()\n",
    "\n",
    "my_wordcloud.to_file(os.path.join(\"wechatfriends_wordcloud.png\"))"
   ]
  },
  {
   "cell_type": "markdown",
   "metadata": {},
   "source": [
    "---\n",
    "\n",
    "## 任务4. 对好友签名进行情感分析\n",
    "\n",
    "在这部分内容中，我们调用了[SnowNLP](https://github.com/isnowfy/snownlp)的情感分析，它是一个python写的类库，可以方便的处理中文文本内容，不用我们实现其中具体的代码。一般来说，情感分析的目的是为了找出作者观点的态度，是正向还是负向，或者更具体的，我们希望知道他的情绪。\n",
    "\n",
    "在这里，我们希望了解到好友签名所表达出来的情感是积极的，还是中立、负面的，比如说在以下例子中，我们对\"这个商品我非常喜欢，颜色很合我意！\"这句话进行了预处理，并通过训练好的模型预测其的情感。\n",
    "\n",
    "在这里，我们简单地假设大于0.66表示积极，低于0.33表示消极，其他表示中立。\n",
    "\n",
    "运行以下代码试试看！\n",
    "\n",
    "---\n",
    "### 知识小贴士\n",
    "同学，理解情感分析其实很简单哦！\n",
    "\n",
    "自然语言处理的很多任务也会应用到机器学习的方法。\n",
    "\n",
    "我们首先会将问题定位，情感分析到底是一个分类（预测已知情感的类型）还是回归（预测情感强弱的程度），还是聚类（通过算法自动得出情感类型）。\n",
    "\n",
    "以我们作业中的情感分析为例，这里是一个回归问题，也就是说我们预测的是一个连续的数值，这个数值的强弱决定了情感的强弱。\n",
    "\n",
    "如果我们把整个情感分析的接口看一个工厂，那么我们输入的文本就是原材料，输出的成品就是情感的强弱度，那么当然机器学习的算法就扮演了加工的角色啦（虽然事实上会复杂很多，不过在初期我们可以简单地这么理解）。\n",
    "\n",
    "因此，采用什么样的手段来加工我们输入的文本，就能决定最终我们得出的强弱度的精确程度。\n",
    "\n",
    "算法层面能处理文本的方式上有很多，例如传统的TF-IDF啦，最大熵模型啦，以及我想大家都很感兴趣的深度学习的等还有很多，感兴趣的话可以对自然语言处理做一些功课，能够有更深的认识。\n",
    "\n",
    "情感分析的应用也很多，我来举两个栗子：\n",
    "* 通过情感分析，对金融领域用户生成的文本分析，可以起到对金融市场的监控和股价异常处理的重要作用；\n",
    "* 我们常常会在电商网站上留下点评，通过这些文本的情感分析，能够更好地理解用户对商品的喜好，进而制定营销策略。\n",
    "\n",
    "总而言之，情感分析能够很好地帮助理解用户的喜好，根据不同喜好来做出更好的决定哦，对于市场研究来说，是一个很有利的工具。\n",
    "\n",
    "---"
   ]
  },
  {
   "cell_type": "code",
   "execution_count": 58,
   "metadata": {},
   "outputs": [
    {
     "name": "stdout",
     "output_type": "stream",
     "text": [
      "0.6851400314498396\n"
     ]
    }
   ],
   "source": [
    "### 以下内容无需修改，直接运行即可\n",
    "from snownlp import SnowNLP\n",
    "\n",
    "text = \"这个商品我非常喜欢，颜色很合我意！\"\n",
    "sentiment = SnowNLP(text).sentiments\n",
    "\n",
    "print(sentiment)"
   ]
  },
  {
   "cell_type": "markdown",
   "metadata": {},
   "source": [
    "接下来，我们将好友的签名进行文本预处理，并尝试统计其中积极、中立、消极的个数。\n",
    "\n",
    "### 练习：统计好友签名情感分析结果比例\n",
    "* 统计sentiments中**大于0.66**的个数\n",
    "* 统计sentiments中**大于等于0.33且小于等于0.66**的个数\n",
    "* 统计sentiments中**小于0.33**的个数\n",
    "\n",
    "---\n",
    "### 提示：\n",
    "* 本题可以用`for`循环语句和对应的`if`条件语句实现，我们在前面给出过例子，可以返回查看。\n",
    "\n",
    "---"
   ]
  },
  {
   "cell_type": "code",
   "execution_count": 59,
   "metadata": {},
   "outputs": [],
   "source": [
    "### 以下内容无需修改，直接运行即可\n",
    "sentiments = []\n",
    "for i in tList:\n",
    "    sentiments.append(SnowNLP(i).sentiments) "
   ]
  },
  {
   "cell_type": "code",
   "execution_count": 65,
   "metadata": {},
   "outputs": [],
   "source": [
    "### TODO：统计sentiments中大于0.66的个数\n",
    "positive = None\n",
    "for sentiment in sentiments:\n",
    "    if 0.66 < sentiment <= 1:\n",
    "        positive = int(positive or 0) + 1\n",
    "\n",
    "### TODO：统计sentiments中大于等于0.33且小于等于0.66的个数\n",
    "neutral = None\n",
    "for sentiment in sentiments:\n",
    "    if 0.33 <= sentiment <= 0.66:\n",
    "        neutral = int(neutral or 0) + 1\n",
    "### TODO：统计sentiments中小于0.33的个数\n",
    "negative = None\n",
    "for sentiment in sentiments:\n",
    "    if 0 < sentiment < 0.33:\n",
    "        negative = int(negative or 0) + 1"
   ]
  },
  {
   "cell_type": "code",
   "execution_count": 68,
   "metadata": {},
   "outputs": [
    {
     "data": {
      "image/png": "[encoded data removed]",
      "text/plain": [
       "<Figure size 432x288 with 1 Axes>"
      ]
     },
     "metadata": {
      "needs_background": "light"
     },
     "output_type": "display_data"
    },
    {
     "data": {
      "image/png": "[encoded data removed]",
      "text/plain": [
       "<Figure size 640x400 with 1 Axes>"
      ]
     },
     "metadata": {},
     "output_type": "display_data"
    }
   ],
   "source": [
    "### 以下内容无需修改，直接运行即可\n",
    "labels = [u'Negative',u'Neutral',u'Positive']\n",
    "values = (negative,neutral,positive)\n",
    "plt.xlabel(u'Sentiment Analysis')\n",
    "plt.ylabel(u'Number')\n",
    "plt.xticks(range(3),labels)\n",
    "plt.bar(range(3), values)\n",
    "\n",
    "plt.title('Sentiment Analysis of Friends signature')\n",
    "plt.show()\n",
    "\n",
    "plt.figure(figsize=(8,5), dpi=80)\n",
    "plt.axes(aspect=1) \n",
    "plt.pie([negative, neutral, positive],\n",
    "        labels=['Negative','Neutral','Positive'],\n",
    "        labeldistance = 1.1,\n",
    "        autopct = '%3.1f%%',\n",
    "        shadow = False,\n",
    "        startangle = 90,\n",
    "        pctdistance = 0.6 \n",
    ")\n",
    "\n",
    "plt.legend(loc='upper right',)\n",
    "plt.title(\"My Wechat Friends' Sentiment Ratio\")\n",
    "plt.show()"
   ]
  },
  {
   "cell_type": "markdown",
   "metadata": {},
   "source": [
    "**注意: 当你写完了所有的代码，并且回答了所有的问题。你就可以把你的 iPython Notebook 导出成 HTML 文件。你可以在菜单栏，这样导出File -> Download as -> HTML (.html)把这个 HTML 和这个 iPython notebook 一起做为你的作业提交。**"
   ]
  }
 ],
 "metadata": {
  "kernelspec": {
   "display_name": "Python 3",
   "language": "python",
   "name": "python3"
  },
  "language_info": {
   "codemirror_mode": {
    "name": "ipython",
    "version": 3
   },
   "file_extension": ".py",
   "mimetype": "text/x-python",
   "name": "python",
   "nbconvert_exporter": "python",
   "pygments_lexer": "ipython3",
   "version": "3.7.3"
  }
 },
 "nbformat": 4,
 "nbformat_minor": 2
}
